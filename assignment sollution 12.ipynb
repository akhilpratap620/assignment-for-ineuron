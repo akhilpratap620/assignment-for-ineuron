{
 "cells": [
  {
   "cell_type": "raw",
   "metadata": {},
   "source": [
    "1.PdfFileReader() needs to be opened in read-binary mode by passing 'rb' and  PdfFileWriter() needs to be opened in write-binary mode with 'wb'."
   ]
  },
  {
   "cell_type": "raw",
   "metadata": {},
   "source": [
    "2.pageObj = pdfReader.getPage(5) will provide whole page 5 in read mode ."
   ]
  },
  {
   "cell_type": "raw",
   "metadata": {},
   "source": [
    "3.The numPages variable stores an integer of the number of pages in the PdfFileReader object. A document contains multiple paragraphs."
   ]
  },
  {
   "cell_type": "raw",
   "metadata": {},
   "source": [
    "4.pdfReader = PyPDF2.PdfFileReader(open('encrypted.pdf', 'rb'))\n",
    "  pdfReader.decrypt('swordfish') # we will use this command."
   ]
  },
  {
   "cell_type": "raw",
   "metadata": {},
   "source": [
    "5. for rottating page we can use this command  page.rotateClockwise(angle)."
   ]
  },
  {
   "cell_type": "raw",
   "metadata": {},
   "source": [
    "6.Paragraph Object : A document contains multiple paragraphs. A paragraph begins on a new line and contains multiple runs. The Document object contains a list of Paragraph objects for the paragraphs in the document. (A new paragraph begins whenever the user presses ENTER or RETURN while typing in a Word document.)\n",
    "Run Objects : Runs are contiguous groups of characters within a paragraph with the same style"
   ]
  },
  {
   "cell_type": "raw",
   "metadata": {},
   "source": [
    "7.import docx\n",
    "doc = docx.Document('abc.docx')\n",
    "doc.paragraphs"
   ]
  },
  {
   "cell_type": "raw",
   "metadata": {},
   "source": [
    "8.A Run object has bold, underline,italic,strike and outline variables"
   ]
  },
  {
   "cell_type": "raw",
   "metadata": {},
   "source": [
    "9.Runs can be further styled using text attributes. Each attribute can be set to one of three values:\n",
    "True (the attribute is always enabled, no matter what other styles are applied to the run),\n",
    "False (the attribute is always disabled),\n",
    "None (defaults to whatever the run’s style is set to)"
   ]
  },
  {
   "cell_type": "raw",
   "metadata": {},
   "source": [
    "10. we can creat by Calling the docx.Document() function"
   ]
  },
  {
   "cell_type": "raw",
   "metadata": {},
   "source": [
    "11. import docx\n",
    "    doc = docx.Document()\n",
    "\n",
    "    doc.add_paragraph('Hello there!')\n",
    "    doc.save('hellothere.docx')\n",
    "    by using this code we can add paragraph with the text 'Hello, there!'' to a Document object stored in a variable named doc\n",
    "\n"
   ]
  },
  {
   "cell_type": "raw",
   "metadata": {},
   "source": [
    "12. 1.integer from 0 to 4\n",
    "    2. The arguments to add_heading() are a string of the heading text and an integer from 0 to 4. The integer 0 makes the heading the Title style, which is used for the top of the document. Integers 1 to 4 are for various heading levels, with 1 being the main heading and 4 the lowest subheading"
   ]
  },
  {
   "cell_type": "code",
   "execution_count": null,
   "metadata": {},
   "outputs": [],
   "source": []
  }
 ],
 "metadata": {
  "kernelspec": {
   "display_name": "Python 3",
   "language": "python",
   "name": "python3"
  },
  "language_info": {
   "codemirror_mode": {
    "name": "ipython",
    "version": 3
   },
   "file_extension": ".py",
   "mimetype": "text/x-python",
   "name": "python",
   "nbconvert_exporter": "python",
   "pygments_lexer": "ipython3",
   "version": "3.8.3"
  }
 },
 "nbformat": 4,
 "nbformat_minor": 4
}
