{
 "cells": [
  {
   "cell_type": "raw",
   "metadata": {},
   "source": [
    "ans.1 - values are ('hello' , -87.8 , 6)\n",
    "        expression (* , - , /, +)\n",
    "        "
   ]
  },
  {
   "cell_type": "raw",
   "metadata": {},
   "source": [
    "ans.2 - string is a datatype but variable is used to store data in temp. memory for further operation."
   ]
  },
  {
   "cell_type": "raw",
   "metadata": {},
   "source": [
    "ans-3 Three datatype 1.Dictionary data type- it contain keys and there values in it normly it is define in {} bracket.\n",
    "                     2.sequence data type - in sequence data type there are three type of data types.\n",
    "                     2(1)-string data type- it can be created by using single ,double and triple codes('',\"\",\"\"\" \"\"\").\n",
    "                     2(2)-list data type- it can be created by [] bracket.\n",
    "                     2(3)-tuple data type - it can be created by () bracket.\n",
    "                     3.Boolean data type - in Boolean data type we have True and false."
   ]
  },
  {
   "cell_type": "raw",
   "metadata": {},
   "source": [
    "ans-4. expression madeup of is nothing but it is construction of a syntax using variables and operators which used to creat according requirment and used for sollution."
   ]
  },
  {
   "cell_type": "raw",
   "metadata": {},
   "source": [
    "ans-5.Expression is combination of values and functions that are combined and interpreted by the compiler to create a new value. whereas statement is just a standalone unit of execution and doesn’t return anything."
   ]
  },
  {
   "cell_type": "raw",
   "metadata": {},
   "source": [
    "ans-6. bacon =22\n",
    "       bacon+1 =23\n",
    "       but the value of bacon will same because we just performe operation but not storing so it will be reamin same.\n",
    "       bacon=22"
   ]
  },
  {
   "cell_type": "raw",
   "metadata": {},
   "source": [
    "ans-7.'spam'+'spamspam'='spamspamspam' because both are the same data type(string)"
   ]
  },
  {
   "cell_type": "raw",
   "metadata": {},
   "source": [
    "ans-8.eggs is a valid variable because eggs can contain any value like(1,2,3,4) and so on and we can change the value of eggs but 100 is a invalid variable because we can not change the value of 100."
   ]
  },
  {
   "cell_type": "code",
   "execution_count": null,
   "metadata": {},
   "outputs": [],
   "source": []
  }
 ],
 "metadata": {
  "kernelspec": {
   "display_name": "Python 3",
   "language": "python",
   "name": "python3"
  },
  "language_info": {
   "codemirror_mode": {
    "name": "ipython",
    "version": 3
   },
   "file_extension": ".py",
   "mimetype": "text/x-python",
   "name": "python",
   "nbconvert_exporter": "python",
   "pygments_lexer": "ipython3",
   "version": "3.8.3"
  }
 },
 "nbformat": 4,
 "nbformat_minor": 4
}
