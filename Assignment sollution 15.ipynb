{
 "cells": [
  {
   "cell_type": "raw",
   "metadata": {},
   "source": [
    "1. no of second in an hour (60*60)=3600\n",
    " multiply the number of seconds in a minute (60) by the number of minutes in an hour (also 60) = 60*60 = 3600\n"
   ]
  },
  {
   "cell_type": "raw",
   "metadata": {},
   "source": [
    "2. seconds_per_hour = 3600"
   ]
  },
  {
   "cell_type": "raw",
   "metadata": {},
   "source": [
    "3.seconds_per_hour*24\n",
    "  3600*24 = 86400"
   ]
  },
  {
   "cell_type": "raw",
   "metadata": {},
   "source": [
    "4.seconds_per_day = seconds_per_hour*24 = 86400\n"
   ]
  },
  {
   "cell_type": "raw",
   "metadata": {},
   "source": [
    "5.seconds_per_day/seconds_per_hour = 24.0(floating point devision)"
   ]
  },
  {
   "cell_type": "raw",
   "metadata": {},
   "source": [
    "6.seconds_per_day//seconds_per_hour = 24"
   ]
  },
  {
   "cell_type": "raw",
   "metadata": {},
   "source": [
    "def genPrimes():\n",
    "    primes = []\n",
    "    n = 2\n",
    "    last = n\n",
    "\n",
    "    while True:\n",
    "        for i in primes:\n",
    "            if n % i == 0:\n",
    "                n += 1\n",
    "                break\n",
    "\n",
    "        else:\n",
    "            primes.append(n)\n",
    "            last = n\n",
    "            n += 1\n",
    "            yield last"
   ]
  },
  {
   "cell_type": "code",
   "execution_count": null,
   "metadata": {},
   "outputs": [],
   "source": []
  },
  {
   "cell_type": "code",
   "execution_count": null,
   "metadata": {},
   "outputs": [],
   "source": []
  }
 ],
 "metadata": {
  "kernelspec": {
   "display_name": "Python 3",
   "language": "python",
   "name": "python3"
  },
  "language_info": {
   "codemirror_mode": {
    "name": "ipython",
    "version": 3
   },
   "file_extension": ".py",
   "mimetype": "text/x-python",
   "name": "python",
   "nbconvert_exporter": "python",
   "pygments_lexer": "ipython3",
   "version": "3.8.3"
  }
 },
 "nbformat": 4,
 "nbformat_minor": 4
}
