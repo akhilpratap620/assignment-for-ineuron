{
 "cells": [
  {
   "cell_type": "raw",
   "metadata": {},
   "source": [
    "ans1. The two values of Boolian data type is (True , False) where python take True =1 and False =0 ."
   ]
  },
  {
   "cell_type": "raw",
   "metadata": {},
   "source": [
    "ans2. Three boolian type of operator is ( == , != , >=) these are three boolian operator.\n"
   ]
  },
  {
   "cell_type": "raw",
   "metadata": {},
   "source": [
    "ans3. The boolian operator is \n",
    "  x       y     x & y      x or y       \n",
    "True\tTrue\tTrue       True\n",
    "False\tTrue\tFalse      True\n",
    "True\tFalse\tFalse      True\n",
    "False\tFalse\tFalse      False "
   ]
  },
  {
   "cell_type": "raw",
   "metadata": {},
   "source": [
    "ans4.(5 > 4) and (3 == 5) = True and False = False\n",
    "     not (5 > 4) =  False\n",
    "     (5 > 4) or (3 == 5) = True or False = True\n",
    "      not ((5 > 4) or (3 == 5)) = not(True or False) = False\n",
    "     (True and True) and (True == False) = False\n",
    "      (not False) or (not True) = True"
   ]
  },
  {
   "cell_type": "raw",
   "metadata": {},
   "source": [
    "ans5. six comparision operator (\" == \" ,\"!=\" , \">\" ,\"<\", \">=\",\"<=\")"
   ]
  },
  {
   "cell_type": "raw",
   "metadata": {},
   "source": [
    "ans6. comparision operator used to compair any value it will give a boolian output, but whereas ' = ' is a asigning operator if we \n",
    "need to asign any variable like a=10 but for \"==\" example . if type(a)== int: it will give boolian output"
   ]
  },
  {
   "cell_type": "raw",
   "metadata": {},
   "source": [
    "ans7. in this question we have taken the variable spam =0 then we have started if statement and comparing the value of spam ==10 if it will be true it will give a print('eggs') but eventually it is false so it will check the second blog.\n",
    "in second blog it is saying if spam >5 :then it will print the statement like print('bacon') but it is also a wrong condition so it will check the third and last blog\n",
    "it is going to print(\"spam\")\n",
    "               print(\"spam\")\n",
    "               print(\"spam\")"
   ]
  },
  {
   "cell_type": "code",
   "execution_count": 8,
   "metadata": {},
   "outputs": [
    {
     "ename": "SyntaxError",
     "evalue": "invalid syntax (<ipython-input-8-cc05b13c4977>, line 1)",
     "output_type": "error",
     "traceback": [
      "\u001b[1;36m  File \u001b[1;32m\"<ipython-input-8-cc05b13c4977>\"\u001b[1;36m, line \u001b[1;32m1\u001b[0m\n\u001b[1;33m    ans8.\u001b[0m\n\u001b[1;37m         ^\u001b[0m\n\u001b[1;31mSyntaxError\u001b[0m\u001b[1;31m:\u001b[0m invalid syntax\n"
     ]
    }
   ],
   "source": [
    "ans8.\n",
    "spam = int(input())\n",
    "if spam ==1:\n",
    "    print(\"Hello\")\n",
    "elif spam == 2:\n",
    "    print(\"Howdy\")\n",
    "else:\n",
    "    print(\"Greetings!\")"
   ]
  },
  {
   "cell_type": "code",
   "execution_count": null,
   "metadata": {},
   "outputs": [],
   "source": []
  }
 ],
 "metadata": {
  "kernelspec": {
   "display_name": "Python 3",
   "language": "python",
   "name": "python3"
  },
  "language_info": {
   "codemirror_mode": {
    "name": "ipython",
    "version": 3
   },
   "file_extension": ".py",
   "mimetype": "text/x-python",
   "name": "python",
   "nbconvert_exporter": "python",
   "pygments_lexer": "ipython3",
   "version": "3.8.3"
  }
 },
 "nbformat": 4,
 "nbformat_minor": 4
}
