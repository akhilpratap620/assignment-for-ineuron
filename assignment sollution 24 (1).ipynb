{
 "cells": [
  {
   "cell_type": "raw",
   "metadata": {},
   "source": [
    "ans 1 . Def function is userdefined and naming function where Lambda is annonymous function.Def can perform Can consists of any number of execution statements inside the function definition whereas Lambda can perform limited only. "
   ]
  },
  {
   "cell_type": "raw",
   "metadata": {},
   "source": [
    "ans2 . Lambda is a one liner function .One of the most benefits of a lambda expression is to reduce the amount of code."
   ]
  },
  {
   "cell_type": "raw",
   "metadata": {},
   "source": [
    "ans 3 .\n",
    "map(): Function will be applied to all objects of iterable, we can use as many literables as wee needed\n",
    "filter(): Function will be applied to only those objects of iterable and added to result which item is True, we can use only one literableans 4.\n",
    "reduce():Python offers a function called reduce() that allows you to reduce a list in a more concise way.\n",
    "\n",
    "Here is the syntax of the reduce() function:    "
   ]
  },
  {
   "cell_type": "raw",
   "metadata": {},
   "source": [
    "ans 4 .Function annotations are completely optional both for parameters and return value.\n",
    "\n",
    "Function annotations provide a way of associating various parts of a function with arbitrary python expressions at compile time.\n",
    "\n",
    "The PEP-3107 makes no attempt to introduce any kind of standard semantics, even for the built-in types. "
   ]
  },
  {
   "cell_type": "code",
   "execution_count": null,
   "metadata": {},
   "outputs": [],
   "source": [
    "ans 5 .In programming terms, a recursive function can be defined as a routine that calls itself directly or indirectly."
   ]
  },
  {
   "cell_type": "raw",
   "metadata": {},
   "source": [
    "ans 6 .Safe: It can be used without causing harm.\n",
    "       Secure: It can't be hacked.\n",
    "        Reliable: It functions as it should, every time.\n",
    "       Testable: It can be tested at the code level.\n",
    "       Maintainable: It can be maintained, even as your codebase grows.\n",
    "       Portable: It works the same in every environment."
   ]
  },
  {
   "cell_type": "raw",
   "metadata": {},
   "source": [
    "ans 7 .\n",
    "1.To call a function—to use a function, or invoke, are other terms that we use—you simply give the name of the function and then, followed in parentheses, argument values—if any—that are needed.\n",
    "2. We use the word print, the name of the function .\n",
    "3.by making object of class we can invoke the function"
   ]
  },
  {
   "cell_type": "code",
   "execution_count": null,
   "metadata": {},
   "outputs": [],
   "source": []
  }
 ],
 "metadata": {
  "kernelspec": {
   "display_name": "Python 3",
   "language": "python",
   "name": "python3"
  },
  "language_info": {
   "codemirror_mode": {
    "name": "ipython",
    "version": 3
   },
   "file_extension": ".py",
   "mimetype": "text/x-python",
   "name": "python",
   "nbconvert_exporter": "python",
   "pygments_lexer": "ipython3",
   "version": "3.8.3"
  }
 },
 "nbformat": 4,
 "nbformat_minor": 4
}
