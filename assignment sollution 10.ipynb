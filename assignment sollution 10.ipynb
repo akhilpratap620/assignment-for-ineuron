{
 "cells": [
  {
   "cell_type": "raw",
   "metadata": {},
   "source": [
    "1.While shutil. copy() will copy a single file, shutil. copytree() will copy an entire folder and every folder and file contained in it."
   ]
  },
  {
   "cell_type": "raw",
   "metadata": {},
   "source": [
    "2.rename() function is used to change the name of the file or directory ."
   ]
  },
  {
   "cell_type": "raw",
   "metadata": {},
   "source": [
    "3.The send2trash functions will move a file or folder to the recycle bin, while shutil functions will permanently delete files and folders."
   ]
  },
  {
   "cell_type": "raw",
   "metadata": {},
   "source": [
    "4.zipfile open() is also a context manager and therefore supports the with statement it can be open in in mode like 'r', 'w', ."
   ]
  },
  {
   "cell_type": "raw",
   "metadata": {},
   "source": [
    "5.  import os, shutil\n",
    "\n",
    "    def selectiveCopy(folder, extensions, destFolder):\n",
    "        folder = os.path.abspath(folder)\n",
    "        destFolder = os.path.abspath(destFolder)\n",
    "        print('Looking in', folder, 'for files with extensions of', ', '.join(extensions))\n",
    "        for foldername, subfolders, filenames in os.walk(folder):\n",
    "            for filename in filenames:\n",
    "                name, extension = os.path.splitext(filename)\n",
    "                if extension in extensions:\n",
    "                    fileAbsPath = foldername + os.path.sep + filename\n",
    "                    print('Coping', fileAbsPath, 'to', destFolder)\n",
    "                    shutil.copy(fileAbsPath, destFolder)\n",
    "\n",
    "    extensions = ['.php', '.py']\n",
    "    folder = 'randomFolder'\n",
    "    destFolder = 'selectiveFolder'\n",
    "    selectiveCopy(folder, extensions, destFolder)"
   ]
  },
  {
   "cell_type": "code",
   "execution_count": null,
   "metadata": {},
   "outputs": [],
   "source": []
  }
 ],
 "metadata": {
  "kernelspec": {
   "display_name": "Python 3",
   "language": "python",
   "name": "python3"
  },
  "language_info": {
   "codemirror_mode": {
    "name": "ipython",
    "version": 3
   },
   "file_extension": ".py",
   "mimetype": "text/x-python",
   "name": "python",
   "nbconvert_exporter": "python",
   "pygments_lexer": "ipython3",
   "version": "3.8.3"
  }
 },
 "nbformat": 4,
 "nbformat_minor": 4
}
