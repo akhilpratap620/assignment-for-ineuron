{
 "cells": [
  {
   "cell_type": "raw",
   "metadata": {},
   "source": [
    "1.A relative path refers to a location that is relative to a current directory"
   ]
  },
  {
   "cell_type": "raw",
   "metadata": {},
   "source": [
    "2.An absolute path refers to the complete details needed to locate a file or folder, starting from the root element and ending with the other subdirectories"
   ]
  },
  {
   "cell_type": "raw",
   "metadata": {},
   "source": [
    "3.the functions os.getcwd() stands for current working Directory and os.chdir() do refer  to changing the Directory."
   ]
  },
  {
   "cell_type": "raw",
   "metadata": {},
   "source": [
    "4.The . is the current directory, while .. signifies the parent directory."
   ]
  },
  {
   "cell_type": "raw",
   "metadata": {},
   "source": [
    "5.C:\\bacon\\eggs is the dir name, while spam.txt is the base name."
   ]
  },
  {
   "cell_type": "raw",
   "metadata": {},
   "source": [
    "6.in an open function The string 'r' for read mode, 'w' for write mode, and 'a' for append mode we can pass."
   ]
  },
  {
   "cell_type": "raw",
   "metadata": {},
   "source": [
    "7.if an existing file will be open that will be arased and all content will be over written ."
   ]
  },
  {
   "cell_type": "raw",
   "metadata": {},
   "source": [
    "8.The read() method returns the file's entire contents as a single string value but  The readlines() method returns a list of strings, where each string is a line from the file's contents."
   ]
  },
  {
   "cell_type": "raw",
   "metadata": {},
   "source": [
    "9.A shelf value resembles a dictionary value . it has keys and values, along with keys() and values() methods that work similarly to the dictionary methods of the same names."
   ]
  },
  {
   "cell_type": "code",
   "execution_count": null,
   "metadata": {},
   "outputs": [],
   "source": []
  }
 ],
 "metadata": {
  "kernelspec": {
   "display_name": "Python 3",
   "language": "python",
   "name": "python3"
  },
  "language_info": {
   "codemirror_mode": {
    "name": "ipython",
    "version": 3
   },
   "file_extension": ".py",
   "mimetype": "text/x-python",
   "name": "python",
   "nbconvert_exporter": "python",
   "pygments_lexer": "ipython3",
   "version": "3.8.3"
  }
 },
 "nbformat": 4,
 "nbformat_minor": 4
}
