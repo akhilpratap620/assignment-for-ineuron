{
 "cells": [
  {
   "cell_type": "raw",
   "metadata": {},
   "source": [
    "1. re. compile() this is a feature which is responsible for generating Regex objects."
   ]
  },
  {
   "cell_type": "raw",
   "metadata": {},
   "source": [
    "2. raw string notation (r\"text\") keeps regular expressions meaningful and confusion-free. Without it every backslash ('\\') in a regular expression would have to be prefixed with another one to escape it."
   ]
  },
  {
   "cell_type": "raw",
   "metadata": {},
   "source": [
    "3.re.search() function takes two parameters and returns a match object if there is a match. if there is more than one match, only the first occurrence of the match will be returned. if no matches are found, the value None is returned"
   ]
  },
  {
   "cell_type": "raw",
   "metadata": {},
   "source": [
    "4.By group() method  we can get strings of the matched text."
   ]
  },
  {
   "cell_type": "raw",
   "metadata": {},
   "source": [
    "5.Group 0 is the entire match, group 1 covers the first set of parentheses, and group 2 covers the second set of parentheses."
   ]
  },
  {
   "cell_type": "raw",
   "metadata": {},
   "source": [
    "6.Periods and parentheses can be escaped with a backslash: \\., \\(, and \\)."
   ]
  },
  {
   "cell_type": "raw",
   "metadata": {},
   "source": [
    "7.If the regex has no groups, a list of strings is returned. If the regex has groups, a list of tuples of strings is returned ."
   ]
  },
  {
   "cell_type": "raw",
   "metadata": {},
   "source": [
    "8.The choice | operator matches either the expression before or the expression after the operator."
   ]
  },
  {
   "cell_type": "raw",
   "metadata": {},
   "source": [
    "9.Each character in a regular expression is either a metacharacter, having a special meaning, or a regular character that has a literal meaning. in the regex b. , 'b' is a literal character that matches just 'b'."
   ]
  },
  {
   "cell_type": "raw",
   "metadata": {},
   "source": [
    "10.Each of them are quantifiers, the star quantifier(*) means that the preceding expression can match zero or more times it is like {0,} while the plus quantifier(+) indicate that the preceding expression MUST match at least one time or multiple times and it is the same as {1,} ."
   ]
  },
  {
   "cell_type": "raw",
   "metadata": {},
   "source": [
    "11.in regular expression ,{4} it means that we will look for four digit. but {4,5} is indicating for 4,5 digit."
   ]
  },
  {
   "cell_type": "raw",
   "metadata": {},
   "source": [
    "12. \\d, \\w, and \\s shorthand character classes is indicating that match a single digit, word, or space character respectively."
   ]
  },
  {
   "cell_type": "raw",
   "metadata": {},
   "source": [
    "13.By \\D, \\W, and \\S shorthand character classes indicate first is non digit character , non-word character , whitespace character respectively."
   ]
  },
  {
   "cell_type": "raw",
   "metadata": {},
   "source": [
    "14.it .*? is nongreedy expression if it find a match it will left all the rest part but  it .* is greedy  expression it will further check after finding the matches."
   ]
  },
  {
   "cell_type": "raw",
   "metadata": {},
   "source": [
    "15.for both numbers and lowercase letters with a character class which is [A-Za-z0-9]."
   ]
  },
  {
   "cell_type": "raw",
   "metadata": {},
   "source": [
    "16.normal procedure for making caseinsensitive expression is (re.match(RE_TEST, 'TeSt', re.IGNORECASE))."
   ]
  },
  {
   "cell_type": "raw",
   "metadata": {},
   "source": [
    "17.(. Dot or period (matches literal dot).If re. DOTALL is passed as the second argument to re. compile(), then the dot will also match newline characters."
   ]
  },
  {
   "cell_type": "raw",
   "metadata": {},
   "source": [
    "18.X drummers, X pipers, five rings, X hens it will be return."
   ]
  },
  {
   "cell_type": "raw",
   "metadata": {},
   "source": [
    "19.it will allow you To ignore whitespace and comments inside the regular expression string."
   ]
  },
  {
   "cell_type": "raw",
   "metadata": {},
   "source": [
    "20.it will be written like this numCommas = re.compile(r'(^\\d{1,3})(,\\d{3})*$')"
   ]
  },
  {
   "cell_type": "raw",
   "metadata": {},
   "source": [
    "21.pattern will be written like this fullName = re.compile(r'[A-Z]\\w [A-Z]\\w')"
   ]
  },
  {
   "cell_type": "raw",
   "metadata": {},
   "source": [
    "22.senRegex = re.compile(r'(Alice|Bob|Carol)\\s(eats|pets|throws)\\s(apples|cats|baseballs).', re.I|re.DOTALL) this expression will be followed ."
   ]
  },
  {
   "cell_type": "code",
   "execution_count": null,
   "metadata": {},
   "outputs": [],
   "source": []
  }
 ],
 "metadata": {
  "kernelspec": {
   "display_name": "Python 3",
   "language": "python",
   "name": "python3"
  },
  "language_info": {
   "codemirror_mode": {
    "name": "ipython",
    "version": 3
   },
   "file_extension": ".py",
   "mimetype": "text/x-python",
   "name": "python",
   "nbconvert_exporter": "python",
   "pygments_lexer": "ipython3",
   "version": "3.8.3"
  }
 },
 "nbformat": 4,
 "nbformat_minor": 4
}
