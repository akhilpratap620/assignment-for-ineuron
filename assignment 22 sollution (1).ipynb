{
 "cells": [
  {
   "cell_type": "raw",
   "metadata": {},
   "source": [
    "answer 1 ."
   ]
  },
  {
   "cell_type": "code",
   "execution_count": 3,
   "metadata": {},
   "outputs": [],
   "source": [
    "X= 'ineuron'\n",
    "def func():\n",
    "    print(X)"
   ]
  },
  {
   "cell_type": "raw",
   "metadata": {},
   "source": [
    "it will print ineuron but it will be nontype object"
   ]
  },
  {
   "cell_type": "raw",
   "metadata": {},
   "source": [
    "answer 2."
   ]
  },
  {
   "cell_type": "code",
   "execution_count": 5,
   "metadata": {},
   "outputs": [],
   "source": [
    "X= 'ineuron'\n",
    "def func():\n",
    "    X ='nill'"
   ]
  },
  {
   "cell_type": "raw",
   "metadata": {},
   "source": [
    "func() will not do anything , but we assign a local variable X.\n",
    "func()\n",
    "print(X) it will print X= 'ineuron' because its a globle variable"
   ]
  },
  {
   "cell_type": "raw",
   "metadata": {},
   "source": [
    "answer 3 ."
   ]
  },
  {
   "cell_type": "code",
   "execution_count": 9,
   "metadata": {},
   "outputs": [],
   "source": [
    "X= 'ineuron'\n",
    "def func():\n",
    "    X ='nill'\n",
    "    print(X)\n",
    "    "
   ]
  },
  {
   "cell_type": "raw",
   "metadata": {},
   "source": [
    "if we call func() it will print local variable \"nil\" but when we call print(X) it will print global variable X= 'ineuron'."
   ]
  },
  {
   "cell_type": "code",
   "execution_count": null,
   "metadata": {},
   "outputs": [],
   "source": [
    "answer 4."
   ]
  },
  {
   "cell_type": "code",
   "execution_count": 13,
   "metadata": {},
   "outputs": [],
   "source": [
    "X= 'ineuron'\n",
    "def func():\n",
    "    global X\n",
    "    X ='nill'\n",
    "    print(X)"
   ]
  },
  {
   "cell_type": "code",
   "execution_count": 14,
   "metadata": {},
   "outputs": [
    {
     "name": "stdout",
     "output_type": "stream",
     "text": [
      "nill\n"
     ]
    }
   ],
   "source": [
    "when we will call func() here we have assign global  value but just after it converted into local X and it will print\"nil\".\n",
    "but when we call print(X) it will print Global variable."
   ]
  },
  {
   "cell_type": "code",
   "execution_count": null,
   "metadata": {},
   "outputs": [],
   "source": [
    "answer 5 . "
   ]
  },
  {
   "cell_type": "code",
   "execution_count": 16,
   "metadata": {},
   "outputs": [
    {
     "name": "stdout",
     "output_type": "stream",
     "text": [
      "ineuron\n"
     ]
    },
    {
     "data": {
      "text/plain": [
       "'ineuron'"
      ]
     },
     "execution_count": 16,
     "metadata": {},
     "output_type": "execute_result"
    }
   ],
   "source": [
    "X= 'ineuron'\n",
    "def func():\n",
    "    X ='nill'\n",
    "def nested():\n",
    "    print(X)\n",
    "nested()\n",
    "X    \n",
    "Both will print X from global variable."
   ]
  },
  {
   "cell_type": "code",
   "execution_count": null,
   "metadata": {},
   "outputs": [],
   "source": [
    "answer 6."
   ]
  },
  {
   "cell_type": "code",
   "execution_count": 23,
   "metadata": {},
   "outputs": [],
   "source": [
    "def func():\n",
    "    X ='nill'\n",
    "    def nested():\n",
    "\n",
    "        nonlocal X\n",
    "        X ='spam'\n",
    "    nested()\n",
    "    print(X)\n"
   ]
  },
  {
   "cell_type": "code",
   "execution_count": 24,
   "metadata": {},
   "outputs": [
    {
     "name": "stdout",
     "output_type": "stream",
     "text": [
      "spam\n"
     ]
    }
   ],
   "source": [
    "func() when we will call this function it will print 'spam ' beacuse it is not a local variable."
   ]
  },
  {
   "cell_type": "code",
   "execution_count": null,
   "metadata": {},
   "outputs": [],
   "source": []
  }
 ],
 "metadata": {
  "kernelspec": {
   "display_name": "Python 3",
   "language": "python",
   "name": "python3"
  },
  "language_info": {
   "codemirror_mode": {
    "name": "ipython",
    "version": 3
   },
   "file_extension": ".py",
   "mimetype": "text/x-python",
   "name": "python",
   "nbconvert_exporter": "python",
   "pygments_lexer": "ipython3",
   "version": "3.8.3"
  }
 },
 "nbformat": 4,
 "nbformat_minor": 4
}
