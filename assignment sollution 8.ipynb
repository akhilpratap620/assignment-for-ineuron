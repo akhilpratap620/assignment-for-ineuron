{
 "cells": [
  {
   "cell_type": "raw",
   "metadata": {},
   "source": [
    "1.PyInputPlus is not a part of the Python Standard Library, so you must install it separately using Pip."
   ]
  },
  {
   "cell_type": "raw",
   "metadata": {},
   "source": [
    "2.You can import the module with import pyinputplus as pyip so that you can enter a shorter name when calling the module's functions."
   ]
  },
  {
   "cell_type": "raw",
   "metadata": {},
   "source": [
    "3.in library PyInputPlus inputint() means we have to give integer value, but at the same place inputfloat() means it will take float argument."
   ]
  },
  {
   "cell_type": "raw",
   "metadata": {},
   "source": [
    "4.By using pyip.inputint(min=0, max=99) we can take input between (0 , 99) ."
   ]
  },
  {
   "cell_type": "raw",
   "metadata": {},
   "source": [
    "5. What is transferred to the keyword arguments allowRegexes and blockRegexes?"
   ]
  },
  {
   "cell_type": "raw",
   "metadata": {},
   "source": [
    "6.inputStr(limit=3) when we will enter blank value it will return 3 times Blank values are not allowed. "
   ]
  },
  {
   "cell_type": "raw",
   "metadata": {},
   "source": [
    "7. it will return the value \n",
    "Blank values are not allowed.\n",
    "\n",
    "Blank values are not allowed.\n",
    "\n",
    "Blank values are not allowed.\n",
    "'hello'"
   ]
  },
  {
   "cell_type": "code",
   "execution_count": null,
   "metadata": {},
   "outputs": [],
   "source": []
  }
 ],
 "metadata": {
  "kernelspec": {
   "display_name": "Python 3",
   "language": "python",
   "name": "python3"
  },
  "language_info": {
   "codemirror_mode": {
    "name": "ipython",
    "version": 3
   },
   "file_extension": ".py",
   "mimetype": "text/x-python",
   "name": "python",
   "nbconvert_exporter": "python",
   "pygments_lexer": "ipython3",
   "version": "3.8.3"
  }
 },
 "nbformat": 4,
 "nbformat_minor": 4
}
