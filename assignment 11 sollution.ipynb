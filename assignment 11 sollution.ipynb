{
 "cells": [
  {
   "cell_type": "raw",
   "metadata": {},
   "source": [
    "1.x = -1\n",
    "assert x >= 0, 'Only positive numbers are allowed'\n",
    "print('x is a positive number.')"
   ]
  },
  {
   "cell_type": "raw",
   "metadata": {},
   "source": [
    "2.eggs = \"hello\"\n",
    "bacon =\"hello\"\n",
    "\n",
    "assert (eggs).lower != (bacon).lower\n",
    "print(\"this is same\")\n",
    "\n",
    "assert (eggs).upper != (bacon).upper\n",
    "print(\"this is same\")"
   ]
  },
  {
   "cell_type": "raw",
   "metadata": {},
   "source": [
    "3.assert(False)\n",
    "print(\"this is value\")"
   ]
  },
  {
   "cell_type": "raw",
   "metadata": {},
   "source": [
    "4. import logging \n",
    "logging.basicConfig(level=logging.DEBUG, format=' %(asctime)s - %(levelname)s - %(message)s') then we can call logging.debug()"
   ]
  },
  {
   "cell_type": "raw",
   "metadata": {},
   "source": [
    "5. import logging \n",
    "   logging.basicConfig(filename='programLog.txt', level=logging.DEBUG, format=' %(asctime)s - %(levelname)s - %(message)s')"
   ]
  },
  {
   "cell_type": "raw",
   "metadata": {},
   "source": [
    "6.DEBUG, INFO, WARNING, ERROR, and CRITICAL these are the five levekl of logging"
   ]
  },
  {
   "cell_type": "raw",
   "metadata": {},
   "source": [
    "7.logging.disable(logging.CRITICAL) this command will allow us to get disable all logging messages in your program ."
   ]
  },
  {
   "cell_type": "raw",
   "metadata": {},
   "source": [
    "8.You can selectively disable lower-level logging messages. You can create logging messages. Logging messages provides a time and date that is why we have an edge for ussing logging rather than print()"
   ]
  },
  {
   "cell_type": "raw",
   "metadata": {},
   "source": [
    "9. The Step button will move the debugger into a function call. The Over button will quickly execute the function call without stepping into it. The Out button will quickly execute the rest of the code until it steps out of the function it currently is in."
   ]
  },
  {
   "cell_type": "raw",
   "metadata": {},
   "source": [
    "10.we are  able to interrupt a long running simulation to look at the current state and then continue the simulation"
   ]
  },
  {
   "cell_type": "raw",
   "metadata": {},
   "source": [
    "11.breakpoint is a setting on a line of code that causes the debugger to pause when the program execution reaches the line"
   ]
  },
  {
   "cell_type": "code",
   "execution_count": null,
   "metadata": {},
   "outputs": [],
   "source": []
  }
 ],
 "metadata": {
  "kernelspec": {
   "display_name": "Python 3",
   "language": "python",
   "name": "python3"
  },
  "language_info": {
   "codemirror_mode": {
    "name": "ipython",
    "version": 3
   },
   "file_extension": ".py",
   "mimetype": "text/x-python",
   "name": "python",
   "nbconvert_exporter": "python",
   "pygments_lexer": "ipython3",
   "version": "3.8.3"
  }
 },
 "nbformat": 4,
 "nbformat_minor": 4
}
