{
 "cells": [
  {
   "cell_type": "raw",
   "metadata": {},
   "source": [
    "1. Functions are advantegeous to our program because it can increase our reusability of any code and we can reduce the complexicity of code.  "
   ]
  },
  {
   "cell_type": "raw",
   "metadata": {},
   "source": [
    "2.Code runs in the function when function is called."
   ]
  },
  {
   "cell_type": "raw",
   "metadata": {},
   "source": [
    "3.we always create a function by using def keyword and function name and round bracket with colen and statement we provide in the block section of function."
   ]
  },
  {
   "cell_type": "raw",
   "metadata": {},
   "source": [
    "4. Function is nothing but it is collection of specific code with name intity but function call is to call a function to apply to perform operation"
   ]
  },
  {
   "cell_type": "raw",
   "metadata": {},
   "source": [
    "5.There can be any number of local Python scope per program execution"
   ]
  },
  {
   "cell_type": "raw",
   "metadata": {},
   "source": [
    "6. local variable contain same value \n"
   ]
  },
  {
   "cell_type": "raw",
   "metadata": {},
   "source": [
    "7.return is a keyword .it will return an output after function completed.  Yes it is possible to have a return value in an expression."
   ]
  },
  {
   "cell_type": "raw",
   "metadata": {},
   "source": [
    "8. if there is no return statement in the function then the return value of any function will be a statement if we have written or it will return none. "
   ]
  },
  {
   "cell_type": "raw",
   "metadata": {},
   "source": [
    "9. we can make a function variable to Global variable by using Global keyword."
   ]
  },
  {
   "cell_type": "raw",
   "metadata": {},
   "source": [
    "10. none is a data type which comes after statement print value of  any function. none data type is actually none there is no any kind of datatype.  "
   ]
  },
  {
   "cell_type": "raw",
   "metadata": {},
   "source": [
    "11.it will import the libaray name areallyourpetsnamederic."
   ]
  },
  {
   "cell_type": "raw",
   "metadata": {},
   "source": [
    "12.we can import bacon() by spam like spam.bacon() this."
   ]
  },
  {
   "cell_type": "raw",
   "metadata": {},
   "source": [
    "13.we can do for avoiding for crashing by error to any programe by using try and except handling mathod."
   ]
  },
  {
   "cell_type": "raw",
   "metadata": {},
   "source": [
    "14.in programe the purpose of try clause - to execute the programe , and the except clause will handle the error of any programe. "
   ]
  }
 ],
 "metadata": {
  "kernelspec": {
   "display_name": "Python 3",
   "language": "python",
   "name": "python3"
  },
  "language_info": {
   "codemirror_mode": {
    "name": "ipython",
    "version": 3
   },
   "file_extension": ".py",
   "mimetype": "text/x-python",
   "name": "python",
   "nbconvert_exporter": "python",
   "pygments_lexer": "ipython3",
   "version": "3.8.3"
  }
 },
 "nbformat": 4,
 "nbformat_minor": 4
}
