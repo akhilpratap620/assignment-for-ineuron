{
 "cells": [
  {
   "cell_type": "raw",
   "metadata": {},
   "source": [
    "1.Excel is more superior when compared with the CSV file format; thus, CSV consumes less amount of file size when the user is importing data; it is a much faster format compared to excel. CSV does not manipulate data and stores it as-is. Excel also allows the user the add-in feature."
   ]
  },
  {
   "cell_type": "raw",
   "metadata": {},
   "source": [
    "2.First, call open() and pass it 'w' to open a file in write mode . This will create the object you can then pass to csv. writer()  to create a Writer object."
   ]
  },
  {
   "cell_type": "raw",
   "metadata": {},
   "source": [
    "3.It opens the file to read and write both in binary format. The file pointer exists at the beginning of the file."
   ]
  },
  {
   "cell_type": "raw",
   "metadata": {},
   "source": [
    "4.writerows() this method takes a list argument and writes it to a CSV file ."
   ]
  },
  {
   "cell_type": "raw",
   "metadata": {},
   "source": [
    "5.The delimiter is the character that appears between cells on a row. By default, the delimiter for a CSV file is a comma. The line terminator is the character that comes at the end of a row. By default, the line terminator is a newline."
   ]
  },
  {
   "cell_type": "raw",
   "metadata": {},
   "source": [
    "6. y = json.loads(x) will return a python structure. after importing a json."
   ]
  },
  {
   "cell_type": "raw",
   "metadata": {},
   "source": [
    "7.y = json.dumps(x) will return a json data , after importing a json.\n"
   ]
  },
  {
   "cell_type": "code",
   "execution_count": null,
   "metadata": {},
   "outputs": [],
   "source": []
  }
 ],
 "metadata": {
  "kernelspec": {
   "display_name": "Python 3",
   "language": "python",
   "name": "python3"
  },
  "language_info": {
   "codemirror_mode": {
    "name": "ipython",
    "version": 3
   },
   "file_extension": ".py",
   "mimetype": "text/x-python",
   "name": "python",
   "nbconvert_exporter": "python",
   "pygments_lexer": "ipython3",
   "version": "3.8.3"
  }
 },
 "nbformat": 4,
 "nbformat_minor": 4
}
