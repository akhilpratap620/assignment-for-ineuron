{
 "cells": [
  {
   "cell_type": "raw",
   "metadata": {},
   "source": [
    "1.An escape character is start with backslash \\ and after slace we can put what ever according to need \n",
    "like (\\n ,\\r,\\t,\\\\) and so on. "
   ]
  },
  {
   "cell_type": "raw",
   "metadata": {},
   "source": [
    "2. scape character n and t stand for respectively new line and Tab ."
   ]
  },
  {
   "cell_type": "raw",
   "metadata": {},
   "source": [
    "3. The way of include backslace is( 'str',\\)"
   ]
  },
  {
   "cell_type": "raw",
   "metadata": {},
   "source": [
    "4.\"Howl's Moving castle is a correct value. because it is a string and it is start from \" code so it will look first \" for completing the string and that's why it is not raising any issue."
   ]
  },
  {
   "cell_type": "raw",
   "metadata": {},
   "source": [
    "5.we can write a new line of any string without using n we can use (end = <character>) any character we can use."
   ]
  },
  {
   "cell_type": "raw",
   "metadata": {},
   "source": [
    "6.\"Hallo, word!\"[1] it will extract 'a'.\n",
    "  \"Hallo, word!\"[0:5] it will extract 'Hallo'\n",
    "  \"Hallo, word!\"[:5] it will also extract 'Hallo'\n",
    "  \"Hallo, word!\"[3:] it will extract 'lo, word!'"
   ]
  },
  {
   "cell_type": "raw",
   "metadata": {},
   "source": [
    "7.'Hello'.upper() it will return only on upper case of Hello\n",
    "  'Hello'.upper().isupper() it will return bolian(true)\n",
    "  'Hello'.upper().lower() it will return all lower cases of hello "
   ]
  },
  {
   "cell_type": "raw",
   "metadata": {},
   "source": [
    "8.'Remember , remember , the fifth of july'.split() it will return ['Remember', ',', 'remember', ',', 'the', 'fifth', 'of', 'july']\n",
    "\n",
    " '-'.join('there can only one.'.split()) first it will split the each value after that it will join with '-' finaly it will return ('there-can-only-one.')"
   ]
  },
  {
   "cell_type": "raw",
   "metadata": {},
   "source": [
    "9 the mathod of right justifying  is used to adjust any string in the right side of the page similarly left justifying is used to adjust in left side\n",
    " and center justifying is used to centered the string."
   ]
  },
  {
   "cell_type": "raw",
   "metadata": {},
   "source": [
    "10. the best way to remove white space from string is strip() function."
   ]
  },
  {
   "cell_type": "code",
   "execution_count": null,
   "metadata": {},
   "outputs": [],
   "source": []
  }
 ],
 "metadata": {
  "kernelspec": {
   "display_name": "Python 3",
   "language": "python",
   "name": "python3"
  },
  "language_info": {
   "codemirror_mode": {
    "name": "ipython",
    "version": 3
   },
   "file_extension": ".py",
   "mimetype": "text/x-python",
   "name": "python",
   "nbconvert_exporter": "python",
   "pygments_lexer": "ipython3",
   "version": "3.8.3"
  }
 },
 "nbformat": 4,
 "nbformat_minor": 4
}
