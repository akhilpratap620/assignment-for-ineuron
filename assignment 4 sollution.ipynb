{
 "cells": [
  {
   "cell_type": "raw",
   "metadata": {},
   "source": [
    "1.[] this is we can say index bracket is generally used for list literals and also can used for indexing operations."
   ]
  },
  {
   "cell_type": "code",
   "execution_count": 3,
   "metadata": {},
   "outputs": [
    {
     "data": {
      "text/plain": [
       "[2, 4, 'hello', 6, 8, 10]"
      ]
     },
     "execution_count": 3,
     "metadata": {},
     "output_type": "execute_result"
    }
   ],
   "source": [
    "#answer 2\n",
    "spam =[2,4,6,8,10]\n",
    "spam.insert(2, 'hello')\n",
    "spam"
   ]
  },
  {
   "cell_type": "code",
   "execution_count": 4,
   "metadata": {},
   "outputs": [
    {
     "data": {
      "text/plain": [
       "'d'"
      ]
     },
     "execution_count": 4,
     "metadata": {},
     "output_type": "execute_result"
    }
   ],
   "source": [
    "#answer3\n",
    "spam=['a','b','c','d']\n",
    "spam[int(int('3' * 2) / 11)]"
   ]
  },
  {
   "cell_type": "code",
   "execution_count": 7,
   "metadata": {},
   "outputs": [
    {
     "data": {
      "text/plain": [
       "'d'"
      ]
     },
     "execution_count": 7,
     "metadata": {},
     "output_type": "execute_result"
    }
   ],
   "source": [
    "#4. \n",
    "spam[-1]\n",
    "#it will perforn the indexing operation and will give the last value"
   ]
  },
  {
   "cell_type": "code",
   "execution_count": 9,
   "metadata": {},
   "outputs": [
    {
     "data": {
      "text/plain": [
       "['a', 'b']"
      ]
     },
     "execution_count": 9,
     "metadata": {},
     "output_type": "execute_result"
    }
   ],
   "source": [
    "#answer5\n",
    "spam[:2] \n",
    "# this is also indexing operation in which we are specifing the two list value"
   ]
  },
  {
   "cell_type": "code",
   "execution_count": null,
   "metadata": {},
   "outputs": [],
   "source": [
    "#answer6\n",
    "bacon = [3.14,'cat',11,'cat',True]\n",
    "#in this list\n",
    "bacon.index('cat')\n",
    "#it will return the index of first most occurance index value that is 1"
   ]
  },
  {
   "cell_type": "code",
   "execution_count": 16,
   "metadata": {},
   "outputs": [],
   "source": [
    "#answer\n",
    "bacon.append(99)\n",
    "#it will add the 99 value at last of the list\n",
    "bacon=[3.14, 'cat', 11, 'cat', True, 99]\n",
    "#it will be the result"
   ]
  },
  {
   "cell_type": "code",
   "execution_count": 19,
   "metadata": {},
   "outputs": [],
   "source": [
    "#answer8\n",
    "bacon.remove('cat')\n",
    "#it will remove the index of first most occurance cat"
   ]
  },
  {
   "cell_type": "code",
   "execution_count": 20,
   "metadata": {},
   "outputs": [
    {
     "data": {
      "text/plain": [
       "[3.14, 11, 'cat', True, 99]"
      ]
     },
     "execution_count": 20,
     "metadata": {},
     "output_type": "execute_result"
    }
   ],
   "source": [
    "bacon"
   ]
  },
  {
   "cell_type": "raw",
   "metadata": {},
   "source": [
    "9.\n",
    "the concatination operator in list is(+) but repetaion operator is (*)"
   ]
  },
  {
   "cell_type": "raw",
   "metadata": {},
   "source": [
    "10. in list if we are going to apply append mathod it will simply take the value and append in last of the list\n",
    "but if insert function will apply it will ask for index at which we want to append"
   ]
  },
  {
   "cell_type": "raw",
   "metadata": {},
   "source": [
    "11. Two mathods of removing items from list is (remove , pop)"
   ]
  },
  {
   "cell_type": "raw",
   "metadata": {},
   "source": [
    "12.List value and string value are identical because of if we create any list or string with so many duplicated value so we edge in list and string that we can\n",
    "manupulate in set then we will see there is no value which is repeated so we can say the value of list and string are identical."
   ]
  },
  {
   "cell_type": "raw",
   "metadata": {},
   "source": [
    "13. list and tupple are sequence type data structure but list muttable but tupple is immutable type of data structure"
   ]
  },
  {
   "cell_type": "raw",
   "metadata": {},
   "source": [
    "14. For writting a tupple value with a single digit we have to apply a trailling comma like\n",
    "t=(42,) this will give tupple value ."
   ]
  },
  {
   "cell_type": "raw",
   "metadata": {},
   "source": [
    "15. it is typecasting mathod if we want a tupple  from list value we can write tupple(value) and if we want list from tupple value \n",
    "we can provide list(value) we can do typecasting from both way."
   ]
  },
  {
   "cell_type": "raw",
   "metadata": {},
   "source": [
    "16. the variable which contain list value  are not neccessarily list them selves stead of list they can contain tupple value and dict value like that."
   ]
  },
  {
   "cell_type": "raw",
   "metadata": {},
   "source": [
    "17. Copy.copy() will do a shallow copy if assign value x with copied value both will at same location it will not create in any other location whereas copy.deepcopy() will do  deep copy in this if we assign this value with x we will see the location difference at there."
   ]
  },
  {
   "cell_type": "code",
   "execution_count": null,
   "metadata": {},
   "outputs": [],
   "source": []
  }
 ],
 "metadata": {
  "kernelspec": {
   "display_name": "Python 3",
   "language": "python",
   "name": "python3"
  },
  "language_info": {
   "codemirror_mode": {
    "name": "ipython",
    "version": 3
   },
   "file_extension": ".py",
   "mimetype": "text/x-python",
   "name": "python",
   "nbconvert_exporter": "python",
   "pygments_lexer": "ipython3",
   "version": "3.8.3"
  }
 },
 "nbformat": 4,
 "nbformat_minor": 4
}
