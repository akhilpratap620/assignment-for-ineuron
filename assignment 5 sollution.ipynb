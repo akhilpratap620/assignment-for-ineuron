{
 "cells": [
  {
   "cell_type": "raw",
   "metadata": {},
   "source": [
    "1. an empty dictionary code looks like d= {} ."
   ]
  },
  {
   "cell_type": "raw",
   "metadata": {},
   "source": [
    "2 dictionary with {'foo':42} the value of dictionary is 42 ."
   ]
  },
  {
   "cell_type": "raw",
   "metadata": {},
   "source": [
    "3. Most significant distinction is we can access the value of dictionary via key not from value but in the list we can directly access the value ."
   ]
  },
  {
   "cell_type": "raw",
   "metadata": {},
   "source": [
    "4.if spam = {'foo':100}\n",
    "and we are trying to extract like\n",
    "spam['foo'] it will give the value 100.\n",
    "because it ['foo'] is working like a index."
   ]
  },
  {
   "cell_type": "raw",
   "metadata": {},
   "source": [
    "5.if a dictionary stored in spam so the expression of 'cat' is it may be key or value both but in spam.keys() it will only a key of dictionary."
   ]
  },
  {
   "cell_type": "raw",
   "metadata": {},
   "source": [
    "6.if a dictionary stored in spam so the expression of 'cat' is it may be key or value both but in spam.values() it will only a value of dictionary."
   ]
  },
  {
   "cell_type": "raw",
   "metadata": {},
   "source": [
    "7. if color is not in spam\n",
    "it will create a new key with color with value( black)"
   ]
  },
  {
   "cell_type": "raw",
   "metadata": {},
   "source": [
    "8.by using pprint module and pprint() function we can print it."
   ]
  },
  {
   "cell_type": "code",
   "execution_count": null,
   "metadata": {},
   "outputs": [],
   "source": []
  }
 ],
 "metadata": {
  "kernelspec": {
   "display_name": "Python 3",
   "language": "python",
   "name": "python3"
  },
  "language_info": {
   "codemirror_mode": {
    "name": "ipython",
    "version": 3
   },
   "file_extension": ".py",
   "mimetype": "text/x-python",
   "name": "python",
   "nbconvert_exporter": "python",
   "pygments_lexer": "ipython3",
   "version": "3.8.3"
  }
 },
 "nbformat": 4,
 "nbformat_minor": 4
}
