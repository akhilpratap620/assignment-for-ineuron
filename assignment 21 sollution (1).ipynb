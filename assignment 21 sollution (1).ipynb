{
 "cells": [
  {
   "cell_type": "code",
   "execution_count": null,
   "metadata": {},
   "outputs": [],
   "source": [
    "1.answer"
   ]
  },
  {
   "cell_type": "code",
   "execution_count": 1,
   "metadata": {},
   "outputs": [],
   "source": [
    "import datetime\n",
    "file = datetime.datetime.now()\n",
    "line =file.strftime(\"%d %B %Y\")\n",
    "with open(\"todays.txt\" , \"w\") as f:\n",
    "    f.write(line)"
   ]
  },
  {
   "cell_type": "code",
   "execution_count": null,
   "metadata": {},
   "outputs": [],
   "source": [
    "2.answer"
   ]
  },
  {
   "cell_type": "code",
   "execution_count": 8,
   "metadata": {},
   "outputs": [],
   "source": [
    "with open(\"todays.txt\" , \"r\") as f:\n",
    "     todays_string = f.readline()"
   ]
  },
  {
   "cell_type": "code",
   "execution_count": 10,
   "metadata": {},
   "outputs": [
    {
     "data": {
      "text/plain": [
       "'17 June 2022'"
      ]
     },
     "execution_count": 10,
     "metadata": {},
     "output_type": "execute_result"
    }
   ],
   "source": [
    "(todays_string )"
   ]
  },
  {
   "cell_type": "code",
   "execution_count": null,
   "metadata": {},
   "outputs": [],
   "source": [
    "3.answer"
   ]
  },
  {
   "cell_type": "code",
   "execution_count": 12,
   "metadata": {},
   "outputs": [
    {
     "data": {
      "text/plain": [
       "'17/06/2022'"
      ]
     },
     "execution_count": 12,
     "metadata": {},
     "output_type": "execute_result"
    }
   ],
   "source": [
    "datetime.datetime.strptime(todays_string , \"%d %B %Y\").strftime('%d/%m/%Y')\n"
   ]
  },
  {
   "cell_type": "code",
   "execution_count": null,
   "metadata": {},
   "outputs": [],
   "source": [
    "4.answer"
   ]
  },
  {
   "cell_type": "code",
   "execution_count": 15,
   "metadata": {},
   "outputs": [
    {
     "data": {
      "text/plain": [
       "['.astropy',\n",
       " '.bash_history',\n",
       " '.conda',\n",
       " '.condarc',\n",
       " '.config',\n",
       " '.cufflinks',\n",
       " '.git',\n",
       " '.gitconfig',\n",
       " '.idea',\n",
       " '.idlerc',\n",
       " '.ipynb_checkpoints',\n",
       " '.ipython',\n",
       " '.jupyter',\n",
       " '.keras',\n",
       " '.lesshst',\n",
       " '.matplotlib',\n",
       " '.python_history',\n",
       " '.spyder-py3',\n",
       " '.VirtualBox',\n",
       " '.vscode',\n",
       " '3D Objects',\n",
       " 'abcd.db',\n",
       " 'abcd.db-journal',\n",
       " 'Airfoil',\n",
       " 'airfoil_self_noise.dat',\n",
       " 'akhil project',\n",
       " 'akhil project output.txt',\n",
       " 'akhil.txt',\n",
       " 'Algerian.csv',\n",
       " 'anaconda3',\n",
       " 'AppData',\n",
       " 'Application Data',\n",
       " 'array specilization.ipynb',\n",
       " 'assignment 1 sollution.ipynb',\n",
       " 'assignment 11 sollution.ipynb',\n",
       " 'assignment 14 sollution.ipynb',\n",
       " 'Assignment 17.ipynb',\n",
       " 'Assignment 18 sollution.ipynb',\n",
       " 'assignment 19 sollution.ipynb',\n",
       " 'assignment 20 sollution.ipynb',\n",
       " 'assignment 21 sollution.ipynb',\n",
       " 'Assignment 3 sollution.ipynb',\n",
       " 'assignment 4 sollution.ipynb',\n",
       " 'assignment 5 sollution.ipynb',\n",
       " 'assignment no7 sollution.ipynb',\n",
       " 'assignment sollution 10.ipynb',\n",
       " 'assignment sollution 12.ipynb',\n",
       " 'Assignment sollution 15.ipynb',\n",
       " 'assignment sollution 16.ipynb',\n",
       " 'assignment sollution 2.ipynb',\n",
       " 'assignment sollution 6.ipynb',\n",
       " 'assignment sollution 8.ipynb',\n",
       " 'assignment sollution 9.ipynb',\n",
       " 'assignment sollution13.ipynb',\n",
       " 'assosiation_rull.py',\n",
       " 'Basic Statistics_v1.py',\n",
       " 'Basic Statistics_v2.py',\n",
       " 'books.csv',\n",
       " 'books.db',\n",
       " 'BullseyeCoverageError.txt',\n",
       " 'CamScanner 03-03-2022 15.40.34-pages-1-2-1.pdf',\n",
       " 'CAR data set for mysql.ipynb',\n",
       " 'carbon_nanotubes.csv',\n",
       " 'cassandra.ipynb',\n",
       " 'class and object  revision.ipynb',\n",
       " 'Classified Data',\n",
       " 'Contacts',\n",
       " 'Cookies',\n",
       " 'Customers.csv',\n",
       " 'data type by360degree.ipynb',\n",
       " 'day4 pandas.ipynb',\n",
       " 'Decision tree example.ipynb',\n",
       " 'descritization.R',\n",
       " 'Documents',\n",
       " 'Downloads',\n",
       " 'EDA .ipynb',\n",
       " 'espn scrapper.ipynb',\n",
       " 'exception handling.ipynb',\n",
       " 'Favorites',\n",
       " 'feature eng.ipynb',\n",
       " 'feature engineering revision session.ipynb',\n",
       " 'feature engineering.ipynb',\n",
       " 'file_example_XLS_50.xls',\n",
       " 'flask class.ipynb',\n",
       " 'flask framework.ipynb',\n",
       " 'FlightPrediction.ipynb',\n",
       " 'for loops, for else with statement.ipynb',\n",
       " 'Graph.ipynb',\n",
       " 'gui class.ipynb',\n",
       " 'hirarical clustering.ipynb',\n",
       " 'home.txt',\n",
       " 'Hypothesis_Testing.ipynb',\n",
       " 'images',\n",
       " 'index.html',\n",
       " 'ineuron first program.ipynb',\n",
       " 'ineuron.db',\n",
       " 'inherit.log',\n",
       " 'insurance.PDF',\n",
       " 'IntelGraphicsProfiles',\n",
       " 'Jedi',\n",
       " 'K Nearest Neighbors with Python.ipynb',\n",
       " 'kmeans clustring practise.ipynb',\n",
       " 'kmeans_clustering.py',\n",
       " 'kmeans_university_akhil.csv',\n",
       " 'krish sir 1 eda class 1.ipynb',\n",
       " 'Links',\n",
       " 'Local Settings',\n",
       " 'logging in python.ipynb',\n",
       " 'logging practice.ipynb',\n",
       " 'logistic practical.ipynb',\n",
       " 'machine_learning_project',\n",
       " 'map.ipynb',\n",
       " 'model.pkl',\n",
       " 'modular programing 2.ipynb',\n",
       " 'Modular programing.ipynb',\n",
       " 'mongodb.ipynb',\n",
       " 'mongodb2.ipynb',\n",
       " 'Music',\n",
       " 'My Documents',\n",
       " 'mydict.py',\n",
       " 'mysql.ipynb',\n",
       " 'my_module.py',\n",
       " 'my_numpy.npy',\n",
       " 'Naive baise algorithm.ipynb',\n",
       " 'nba.csv',\n",
       " 'NetHood',\n",
       " 'New folder',\n",
       " 'new_ineuron_projrct',\n",
       " 'NTUSER.DAT',\n",
       " 'ntuser.dat.LOG1',\n",
       " 'ntuser.dat.LOG2',\n",
       " 'NTUSER.DAT{1c2b59c6-c5f5-11eb-bacb-000d3a96488e}.TM.blf',\n",
       " 'NTUSER.DAT{1c2b59c6-c5f5-11eb-bacb-000d3a96488e}.TMContainer00000000000000000001.regtrans-ms',\n",
       " 'NTUSER.DAT{1c2b59c6-c5f5-11eb-bacb-000d3a96488e}.TMContainer00000000000000000002.regtrans-ms',\n",
       " 'ntuser.ini',\n",
       " 'numpy 2.ipynb',\n",
       " 'OneDrive',\n",
       " 'oneplus.txt',\n",
       " 'ooops concepts.ipynb',\n",
       " 'ooops.log',\n",
       " 'oops 2.ipynb',\n",
       " 'oops3 polymorphism.ipynb',\n",
       " 'pandas +numpy.ipynb',\n",
       " 'pandas day2.ipynb',\n",
       " 'pandas day3.ipynb',\n",
       " 'pandas lib.ipynb',\n",
       " 'person.db',\n",
       " 'Postman',\n",
       " 'practice.log',\n",
       " 'PrintHood',\n",
       " 'PycharmProjects',\n",
       " 'pyramid class by ineuron.ipynb',\n",
       " 'Python_Day1_new.py',\n",
       " 'rahul.txt',\n",
       " 'raksha.py',\n",
       " 'random forest practise.ipynb',\n",
       " 'Random forest.ipynb',\n",
       " 'Recent',\n",
       " 'result.pdf',\n",
       " 'ReviewFlask',\n",
       " 'Ridge and lasso algo.ipynb',\n",
       " 'Ridge and Lasso reggression algo practical.ipynb',\n",
       " 'Saved Games',\n",
       " 'seaborn-data',\n",
       " 'Searches',\n",
       " 'SendTo',\n",
       " 'sql lite.ipynb',\n",
       " 'Start Menu',\n",
       " 'statics 2.ipynb',\n",
       " 'statistics.ipynb',\n",
       " 'SVM-Kernels-main.zip',\n",
       " 'Templates',\n",
       " 'test (1).csv',\n",
       " 'test.log',\n",
       " 'test.txt',\n",
       " 'tex2',\n",
       " 'text.log',\n",
       " 'text.py',\n",
       " 'text.txt',\n",
       " 'text1.log',\n",
       " 'text1.py',\n",
       " 'text2.log',\n",
       " 'text3.log',\n",
       " 'text4.txt',\n",
       " 'textinher.txt',\n",
       " 'text_inherit',\n",
       " 'titanic analysis .ipynb',\n",
       " 'todays.txt',\n",
       " 'Tracing',\n",
       " 'train.csv',\n",
       " 'tuple, set and dict.ipynb',\n",
       " 'University.csv',\n",
       " 'university1.csv',\n",
       " 'Untitled.ipynb',\n",
       " 'Untitled1.ipynb',\n",
       " 'Untitled10.ipynb',\n",
       " 'Untitled11.ipynb',\n",
       " 'Untitled12.ipynb',\n",
       " 'Untitled13.ipynb',\n",
       " 'Untitled14.ipynb',\n",
       " 'Untitled15.ipynb',\n",
       " 'Untitled16.ipynb',\n",
       " 'Untitled17.ipynb',\n",
       " 'Untitled18.ipynb',\n",
       " 'Untitled19.ipynb',\n",
       " 'Untitled2.ipynb',\n",
       " 'Untitled20.ipynb',\n",
       " 'Untitled21.ipynb',\n",
       " 'Untitled22.ipynb',\n",
       " 'Untitled23.ipynb',\n",
       " 'Untitled24.ipynb',\n",
       " 'Untitled25.ipynb',\n",
       " 'Untitled26.ipynb',\n",
       " 'Untitled27.ipynb',\n",
       " 'Untitled28.ipynb',\n",
       " 'Untitled29.ipynb',\n",
       " 'Untitled3.ipynb',\n",
       " 'Untitled30.ipynb',\n",
       " 'Untitled31.ipynb',\n",
       " 'Untitled32.ipynb',\n",
       " 'Untitled33.ipynb',\n",
       " 'Untitled34.ipynb',\n",
       " 'Untitled35.ipynb',\n",
       " 'Untitled36.ipynb',\n",
       " 'Untitled37.ipynb',\n",
       " 'Untitled4.ipynb',\n",
       " 'Untitled5.ipynb',\n",
       " 'Untitled6.ipynb',\n",
       " 'Untitled7.ipynb',\n",
       " 'Untitled8.ipynb',\n",
       " 'Untitled9.ipynb',\n",
       " 'USB Drive',\n",
       " 'Videos',\n",
       " 'wifi passwd.ipynb',\n",
       " 'zomato_re.py .py',\n",
       " 'zoo.py',\n",
       " 'ZOO.py.ipynb',\n",
       " '__pycache__']"
      ]
     },
     "execution_count": 15,
     "metadata": {},
     "output_type": "execute_result"
    }
   ],
   "source": [
    "import os \n",
    "os.listdir()"
   ]
  },
  {
   "cell_type": "code",
   "execution_count": null,
   "metadata": {},
   "outputs": [],
   "source": [
    "5.answer"
   ]
  },
  {
   "cell_type": "code",
   "execution_count": 16,
   "metadata": {},
   "outputs": [],
   "source": [
    "list = os.listdir()"
   ]
  },
  {
   "cell_type": "code",
   "execution_count": null,
   "metadata": {},
   "outputs": [],
   "source": [
    "6.answer"
   ]
  },
  {
   "cell_type": "code",
   "execution_count": 23,
   "metadata": {},
   "outputs": [],
   "source": [
    "import multiprocessing,time,datetime\n",
    "import zoo ,numpy as np\n",
    "\n",
    "def process1():\n",
    "    \n",
    "    t1 = np.random.randint(1,5)\n",
    "    print(\"Waiting for \"+str(t1)+\" seconds\")\n",
    "    time.sleep(t1)\n",
    "    print(datetime.datetime.now())\n",
    "\n",
    "\n",
    "start = time.time()\n",
    "\n",
    "\n",
    "\n",
    "    "
   ]
  },
  {
   "cell_type": "code",
   "execution_count": 24,
   "metadata": {},
   "outputs": [
    {
     "name": "stdout",
     "output_type": "stream",
     "text": [
      "Waiting for 3 seconds\n",
      "2022-06-17 09:46:19.948884\n"
     ]
    }
   ],
   "source": [
    "process1()"
   ]
  },
  {
   "cell_type": "code",
   "execution_count": null,
   "metadata": {},
   "outputs": [],
   "source": [
    "7.answer"
   ]
  },
  {
   "cell_type": "code",
   "execution_count": 28,
   "metadata": {},
   "outputs": [
    {
     "name": "stdout",
     "output_type": "stream",
     "text": [
      "2001-07-21 00:00:00\n"
     ]
    },
    {
     "data": {
      "text/plain": [
       "datetime.datetime"
      ]
     },
     "execution_count": 28,
     "metadata": {},
     "output_type": "execute_result"
    }
   ],
   "source": [
    "import datetime\n",
    "\n",
    "x = datetime.datetime(2001, 7, 21)\n",
    "\n",
    "print(x)\n"
   ]
  },
  {
   "cell_type": "code",
   "execution_count": null,
   "metadata": {},
   "outputs": [],
   "source": [
    "answer 8."
   ]
  },
  {
   "cell_type": "code",
   "execution_count": 29,
   "metadata": {},
   "outputs": [],
   "source": [
    "import datetime\n",
    "import calendar\n",
    " \n",
    "def birthDay(date):\n",
    "    born = datetime.datetime.strptime(date, '%d %m %Y').weekday()\n",
    "    return (calendar.day_name[born])"
   ]
  },
  {
   "cell_type": "code",
   "execution_count": 37,
   "metadata": {},
   "outputs": [
    {
     "data": {
      "text/plain": [
       "'Saturday'"
      ]
     },
     "execution_count": 37,
     "metadata": {},
     "output_type": "execute_result"
    }
   ],
   "source": [
    "birthDay('21 7 2001')"
   ]
  },
  {
   "cell_type": "code",
   "execution_count": null,
   "metadata": {},
   "outputs": [],
   "source": [
    "answer 9."
   ]
  },
  {
   "cell_type": "code",
   "execution_count": 38,
   "metadata": {},
   "outputs": [
    {
     "name": "stdout",
     "output_type": "stream",
     "text": [
      "2028-12-06\n"
     ]
    }
   ],
   "source": [
    "import datetime\n",
    "\n",
    "start_date = datetime.datetime(year=2001, month=7, day=21)\n",
    "\n",
    "end_date = start_date + datetime.timedelta(days=10000)\n",
    "\n",
    "print(end_date.date())"
   ]
  },
  {
   "cell_type": "code",
   "execution_count": null,
   "metadata": {},
   "outputs": [],
   "source": []
  },
  {
   "cell_type": "code",
   "execution_count": null,
   "metadata": {},
   "outputs": [],
   "source": []
  }
 ],
 "metadata": {
  "kernelspec": {
   "display_name": "Python 3",
   "language": "python",
   "name": "python3"
  },
  "language_info": {
   "codemirror_mode": {
    "name": "ipython",
    "version": 3
   },
   "file_extension": ".py",
   "mimetype": "text/x-python",
   "name": "python",
   "nbconvert_exporter": "python",
   "pygments_lexer": "ipython3",
   "version": "3.8.3"
  }
 },
 "nbformat": 4,
 "nbformat_minor": 4
}
