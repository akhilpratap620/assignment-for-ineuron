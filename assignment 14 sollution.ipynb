{
 "cells": [
  {
   "cell_type": "raw",
   "metadata": {},
   "source": [
    "1.RGBA stand for Red-Green-Blue-Alpha ."
   ]
  },
  {
   "cell_type": "raw",
   "metadata": {},
   "source": [
    "2.\n",
    "from PIL import Image\n",
    "  \n",
    "img = Image.open('image.png')\n",
    "rgba = img.convert(\"RGBA\")\n",
    "datas = rgba.getdata()\n",
    "by this mathod we can get RGBA value ."
   ]
  },
  {
   "cell_type": "raw",
   "metadata": {},
   "source": [
    "3.Many of Pillow’s functions and methods take a box tuple argument. This means Pillow is expecting a tuple of four integer coordinates that represent a rectangular region in an image. The four integers are, in order .\n",
    "Left The x-coordinate of the leftmost edge of the box.\n",
    "\n",
    "Top The y-coordinate of the top edge of the box.\n",
    "\n",
    "Right The x-coordinate of one pixel to the right of the rightmost edge of the box. This integer must be greater than the left integer.\n",
    "\n",
    "Bottom The y-coordinate of one pixel lower than the bottom edge of the box. This integer must be greater than the top integer.\n"
   ]
  },
  {
   "cell_type": "raw",
   "metadata": {},
   "source": [
    "4.\n",
    "#import required module\n",
    "from PIL import Image\n",
    "  \n",
    "# get image\n",
    "filepath = \"akhil.png\"\n",
    "img = Image.open(filepath)\n",
    "  \n",
    "# get width and height\n",
    "width = img.width\n",
    "height = img.heigh by this hight we can get shape ."
   ]
  },
  {
   "cell_type": "raw",
   "metadata": {},
   "source": [
    "5.  top=514\n",
    "    right=430\n",
    "    height= 100\n",
    "    width=100\n",
    "    croped_image = image[top : (top + height) , right: (right + width)]\n",
    "    plt.imshow(croped_image, cmap=\"gray\")\n",
    "    plt.show()"
   ]
  },
  {
   "cell_type": "raw",
   "metadata": {},
   "source": [
    "6.  from PIL import Image\n",
    "    import numpy as np\n",
    "\n",
    "    i = Image.open(\"C:/Users/User/Desktop/mesh.bmp\")\n",
    "    i = i.convert(\"L\")\n",
    "    a = np.asarray(i)\n",
    "    b = np.abs(np.fft.rfft2(a))\n",
    "    j = Image.fromarray(b)\n",
    "    j.save(\"C:/Users/User/Desktop/mesh_trans\",\".bmp\")"
   ]
  },
  {
   "cell_type": "raw",
   "metadata": {},
   "source": [
    "7. ImageDraw() module contains Pillow’s shape-drawing code.\n",
    "  "
   ]
  },
  {
   "cell_type": "raw",
   "metadata": {},
   "source": [
    "8.  from PIL import Image, ImageDraw\n",
    "  \n",
    "    w, h = 100, 100\n",
    "    shape = [(40, 40), (w - 10, h - 10)]\n",
    "\n",
    "    #created image object\n",
    "    img = Image.new(\"RGB\", (w, h))"
   ]
  },
  {
   "cell_type": "code",
   "execution_count": null,
   "metadata": {},
   "outputs": [],
   "source": []
  }
 ],
 "metadata": {
  "kernelspec": {
   "display_name": "Python 3",
   "language": "python",
   "name": "python3"
  },
  "language_info": {
   "codemirror_mode": {
    "name": "ipython",
    "version": 3
   },
   "file_extension": ".py",
   "mimetype": "text/x-python",
   "name": "python",
   "nbconvert_exporter": "python",
   "pygments_lexer": "ipython3",
   "version": "3.8.3"
  }
 },
 "nbformat": 4,
 "nbformat_minor": 4
}
